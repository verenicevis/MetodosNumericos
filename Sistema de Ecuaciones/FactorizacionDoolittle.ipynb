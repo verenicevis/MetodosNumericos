{
 "cells": [
  {
   "cell_type": "code",
   "execution_count": 1,
   "metadata": {},
   "outputs": [
    {
     "name": "stdout",
     "output_type": "stream",
     "text": [
      "Using matplotlib backend: Qt5Agg\n",
      "Populating the interactive namespace from numpy and matplotlib\n"
     ]
    }
   ],
   "source": [
    "%pylab\n",
    "\n",
    "#Hace uno de la función LU que está\n",
    "#en un código aparte\n",
    "\n",
    "def FactDoolitle(A,B):\n",
    "    L,U = LU(A)\n",
    "    #Solución del sistema\n",
    "\n",
    "    y = np.zeros(n)\n",
    "    x = np.zeros(n)\n",
    "    y[0] = B[0]/L[0][0]\n",
    "\n",
    "\n",
    "    for i in range(1,n):\n",
    "        x[i] = B[i]\n",
    "        for j in range(0,i):\n",
    "            suma = L[i][j] * x[j]\n",
    "            x[i] = x[i] - suma\n",
    "        x[i] = x[i] / L[i][i]\n",
    "\n",
    "    x[n-1] = y[n-1]/U[n-1][n-1]\n",
    "\n",
    "    for i in range(n-1,-1,-1):\n",
    "        x[i] = y[i]\n",
    "        suma = 0\n",
    "        for j in range(n-1,0,-1):\n",
    "            suma += U[i][j] * x[j]\n",
    "        x[i] =  x[i] -suma / U[i][i]        \n",
    "    \n",
    "    print(x)\n",
    "    return(x)"
   ]
  },
  {
   "cell_type": "code",
   "execution_count": null,
   "metadata": {},
   "outputs": [],
   "source": []
  }
 ],
 "metadata": {
  "kernelspec": {
   "display_name": "Python 3",
   "language": "python",
   "name": "python3"
  },
  "language_info": {
   "codemirror_mode": {
    "name": "ipython",
    "version": 3
   },
   "file_extension": ".py",
   "mimetype": "text/x-python",
   "name": "python",
   "nbconvert_exporter": "python",
   "pygments_lexer": "ipython3",
   "version": "3.7.3"
  }
 },
 "nbformat": 4,
 "nbformat_minor": 4
}
