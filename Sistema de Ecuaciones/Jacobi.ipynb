{
 "cells": [
  {
   "cell_type": "code",
   "execution_count": null,
   "metadata": {},
   "outputs": [],
   "source": [
    "%pylab\n",
    "\n",
    "# Método iterativo que resulve\n",
    "# Sistemas de ecs del tipo Ax=B\n",
    "\n",
    "def Jacobi(A,B,iters,toler):\n",
    "    \n",
    "    maxi = 100000\n",
    "    aux = 0\n",
    "    imax = 0\n",
    "\n",
    "    \n",
    "    #Ver que es dominante\n",
    "    \n",
    "    dominante = True\n",
    "    for i in range(0,n):\n",
    "        if A[i][i] == 0 :\n",
    "            print('Tu matriz tiene 0s en la diagonal, por lo que no es apta para el método')\n",
    "            return()\n",
    "        suma = 0\n",
    "        for j in range(0,n):\n",
    "            if not i == j :\n",
    "                suma = suma + abs(A[i][j])\n",
    "        if abs(A[i][i]) < suma:\n",
    "            dominante = False\n",
    "            print('Tu matriz no es Diagonal estrictamente dominante')\n",
    "            return() \n",
    "    \n",
    "    xn = np.zeros(n)\n",
    "    xa = np.zeros(n)\n",
    "    for i in range(n):\n",
    "        xa[i] = B[i]\n",
    "    for k in range(iters):       \n",
    "        #Calculo de x_nuevo\n",
    "        for i in range(0,n):\n",
    "            aux = 0\n",
    "            suma = 0\n",
    "            for j in range(0,n):\n",
    "                if  i != j :\n",
    "                    suma = suma + (A[i][j]*xa[j])\n",
    "            xn[i] = (B[i] - suma)/ A[i][i]\n",
    "        #Calculo de error\n",
    "            aux += ((xn[i] - xa[i])**2)/ (xn[i]**2)\n",
    "        aux = sqrt(aux)\n",
    "        if aux > toler:\n",
    "            for i in range(0,n):\n",
    "                xa[i] = xn[i]\n",
    "            if imax > maxi:\n",
    "                print('El sistema no converge')\n",
    "                return()\n",
    "        if aux < toler :\n",
    "            print(xn)\n",
    "            return(xn)"
   ]
  }
 ],
 "metadata": {
  "kernelspec": {
   "display_name": "Python 3",
   "language": "python",
   "name": "python3"
  },
  "language_info": {
   "codemirror_mode": {
    "name": "ipython",
    "version": 3
   },
   "file_extension": ".py",
   "mimetype": "text/x-python",
   "name": "python",
   "nbconvert_exporter": "python",
   "pygments_lexer": "ipython3",
   "version": "3.7.3"
  }
 },
 "nbformat": 4,
 "nbformat_minor": 4
}
