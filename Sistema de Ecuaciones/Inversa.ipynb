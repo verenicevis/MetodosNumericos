{
 "cells": [
  {
   "cell_type": "code",
   "execution_count": null,
   "metadata": {},
   "outputs": [],
   "source": [
    "%pylab\n",
    "\n",
    "# Hace uso de la función LU\n",
    "# revisar programa LU.ipynb\n",
    "\n",
    "###Calculo de la inversa\n",
    "def Inversa(A,toler):\n",
    "    L,U = LU(A)\n",
    "    n = len(A)\n",
    "    d = np.zeros(n)\n",
    "    x = np.zeros(n)\n",
    "    MAT_I = A.copy()\n",
    "    \n",
    "    for m in range(n):\n",
    "        ##e_m es el m-esimo vector canonico\n",
    "        e_m = np.zeros(n)\n",
    "        e_m[m] = 1\n",
    "        #####Se calcula la solución de Ld= e_m \n",
    "        d[0] = e_m[0]/L[0][0]\n",
    "        for i in range(1,n):\n",
    "            d[i] = e_m[i]\n",
    "            for j in range(0,i):\n",
    "                suma = L[i][j] * d[j]\n",
    "                d[i] = d[i] - suma\n",
    "            d[i] = d[i] / L[i][i]\n",
    "        ######Se calcula la solucion a Ux =D\n",
    "        for i in range(n-1,-1,-1):\n",
    "            suma = 0\n",
    "            for j in range(i+1,n,1):\n",
    "                suma += (U[i][j]*x[j])\n",
    "            resta = (d[i] - suma)\n",
    "            x[i] = resta / U[i][i]\n",
    "        #print(x) ####Elementos de la matriz inversa\n",
    "        for j in range(n):    ##### Se guardan los x's en una matriz\n",
    "            MAT_I[j][m]= x[j]\n",
    "    for i in range(n):\n",
    "        for j in range(n):\n",
    "            if (np.dot(mat,MAT_I))[i][j] != (np.identity(n))[i][j]:\n",
    "                d = np.zeros(n)\n",
    "                x = np.zeros(n)\n",
    "            else:\n",
    "                return (MAT_I)"
   ]
  }
 ],
 "metadata": {
  "kernelspec": {
   "display_name": "Python 3",
   "language": "python",
   "name": "python3"
  },
  "language_info": {
   "codemirror_mode": {
    "name": "ipython",
    "version": 3
   },
   "file_extension": ".py",
   "mimetype": "text/x-python",
   "name": "python",
   "nbconvert_exporter": "python",
   "pygments_lexer": "ipython3",
   "version": "3.7.3"
  }
 },
 "nbformat": 4,
 "nbformat_minor": 4
}
