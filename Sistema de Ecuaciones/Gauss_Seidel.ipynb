{
 "cells": [
  {
   "cell_type": "code",
   "execution_count": null,
   "metadata": {},
   "outputs": [],
   "source": [
    "%pylab\n",
    "\n",
    "#Método iterativo para resolver Ax=B\n",
    "\n",
    "def Gauss_Seidel(A, B, maxiter):\n",
    "    n = len(A)\n",
    "    x0 = np.zeros(n)\n",
    "    x1 = np.zeros(n)\n",
    "    #Verifica si tiene 0's en la diagonal\n",
    "    for i in range(0,n):\n",
    "        if A[i][i] == 0:\n",
    "            print('No se puede resolver mediante Gauss-Seidel')\n",
    "            return()\n",
    "    #verifica que sea diagonalmente dominante\n",
    "    for i in range(1,n):\n",
    "        for j in range(1,n):\n",
    "            if not i == j :\n",
    "                suma = 0\n",
    "                suma += abs(A[i][j])\n",
    "        if abs(A[i][i]) < suma:\n",
    "            print('Tu matriz no es Diagonal dominante')\n",
    "            print('El sistema no se puede resolver mediante Gauss-Seidel')\n",
    "            return()\n",
    "\n",
    "\n",
    "    for k in range(0,maxiter):\n",
    "        for i in range(n):\n",
    "            x0[i] = B[i]\n",
    "            for j in range(n):\n",
    "                if i!= j:\n",
    "                    sumaa = 0\n",
    "                    sumaa += A[i][j] * x1[j]\n",
    "            x0[i] = x0[i] - sumaa\n",
    "            x0[i] = x0[i] / A[i][i]\n",
    "        for i in range(n):\n",
    "            x1[i] = x0[i]\n",
    "    return(x1)"
   ]
  }
 ],
 "metadata": {
  "kernelspec": {
   "display_name": "Python 3",
   "language": "python",
   "name": "python3"
  },
  "language_info": {
   "codemirror_mode": {
    "name": "ipython",
    "version": 3
   },
   "file_extension": ".py",
   "mimetype": "text/x-python",
   "name": "python",
   "nbconvert_exporter": "python",
   "pygments_lexer": "ipython3",
   "version": "3.7.3"
  }
 },
 "nbformat": 4,
 "nbformat_minor": 4
}
