{
 "cells": [
  {
   "cell_type": "code",
   "execution_count": 1,
   "metadata": {},
   "outputs": [
    {
     "name": "stdout",
     "output_type": "stream",
     "text": [
      "Using matplotlib backend: Qt5Agg\n",
      "Populating the interactive namespace from numpy and matplotlib\n"
     ]
    }
   ],
   "source": [
    "%pylab\n",
    "\n",
    "def LU(A):\n",
    "    n = len(A)\n",
    "    #Creación de matrices U y L para la descomposición de A\n",
    "    U = np.zeros((n,n))\n",
    "    L = np.zeros((n,n))\n",
    "\n",
    "    U[1][1] = A[1][1]\n",
    "\n",
    "\n",
    "    #Sustitución de elemntos de L y U\n",
    "    for i in range(0,n):\n",
    "        L[i][i] = 1\n",
    "        suma1 = 0\n",
    "        for j in range(0,n):\n",
    "            if j<i :\n",
    "                U[i][j] = 0\n",
    "                for k in range(0,j):\n",
    "                    suma1 += (L[i][k]*U[k][j])\n",
    "                L[i][j] = (A[i][j] - suma1 )\n",
    "                L[i][j] =  L[i][j] / U[j][j]\n",
    "            if j>i:\n",
    "                L[i][j] = 0        \n",
    "            else:\n",
    "                suma2 = 0\n",
    "                for k in range (0,i):\n",
    "                    suma2 += (L[i][k]*U[k][j])\n",
    "                U[i][j] = A[i][j] - suma2\n",
    "    return(L,U)"
   ]
  },
  {
   "cell_type": "code",
   "execution_count": null,
   "metadata": {},
   "outputs": [],
   "source": []
  }
 ],
 "metadata": {
  "kernelspec": {
   "display_name": "Python 3",
   "language": "python",
   "name": "python3"
  },
  "language_info": {
   "codemirror_mode": {
    "name": "ipython",
    "version": 3
   },
   "file_extension": ".py",
   "mimetype": "text/x-python",
   "name": "python",
   "nbconvert_exporter": "python",
   "pygments_lexer": "ipython3",
   "version": "3.7.3"
  }
 },
 "nbformat": 4,
 "nbformat_minor": 4
}
