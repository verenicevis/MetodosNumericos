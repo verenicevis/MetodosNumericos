{
 "cells": [
  {
   "cell_type": "code",
   "execution_count": 1,
   "metadata": {},
   "outputs": [
    {
     "name": "stdout",
     "output_type": "stream",
     "text": [
      "Using matplotlib backend: Qt5Agg\n",
      "Populating the interactive namespace from numpy and matplotlib\n"
     ]
    }
   ],
   "source": [
    "%pylab\n",
    "\n",
    "def Tsup(A,B):\n",
    "    \n",
    "    #A es matriz cuadrada con \n",
    "    #dim(A) = n \n",
    "    #B es vector de tamaño n\n",
    "    \n",
    "    n = len(A)\n",
    "    \n",
    "    for i in range(0,n):\n",
    "        for j in range(0,n):\n",
    "            if i > j and A[i][j] != 0:\n",
    "                print('Tu matriz no es Triangular Superior') \n",
    "                return()\n",
    "\n",
    "\n",
    "    #Resolución del sistema de ecuaciones\n",
    "\n",
    "    x = np.zeros(n)\n",
    "\n",
    "    x[n-1] = B[n-1]/A[n-1][n-1]\n",
    "\n",
    "    for i in range(n-1,-1,-1):\n",
    "        suma = 0\n",
    "        for j in range(i+1,n,-1):\n",
    "            suma += (A[i][j] * x[j])\n",
    "        x[i] =  (B[i] - suma) / A[i][i]\n",
    "\n",
    "    print('Las soluciones del sistema son: ')\n",
    "    print(x)\n",
    "\n",
    "    #Cálculo del determinante de U\n",
    "\n",
    "    for i in range(0,n):\n",
    "        if A[i][i] == 0:\n",
    "            print('El determinante es 0')\n",
    "            break\n",
    "\n",
    "    determinante = 1\n",
    "    for i in range(0,n):\n",
    "        determinante *=  A[i][i]\n",
    "    print('El determinante de A es: ')\n",
    "    print(determinante)\n",
    "    return(x,determinante)"
   ]
  },
  {
   "cell_type": "code",
   "execution_count": null,
   "metadata": {},
   "outputs": [],
   "source": []
  }
 ],
 "metadata": {
  "kernelspec": {
   "display_name": "Python 3",
   "language": "python",
   "name": "python3"
  },
  "language_info": {
   "codemirror_mode": {
    "name": "ipython",
    "version": 3
   },
   "file_extension": ".py",
   "mimetype": "text/x-python",
   "name": "python",
   "nbconvert_exporter": "python",
   "pygments_lexer": "ipython3",
   "version": "3.7.3"
  }
 },
 "nbformat": 4,
 "nbformat_minor": 4
}
