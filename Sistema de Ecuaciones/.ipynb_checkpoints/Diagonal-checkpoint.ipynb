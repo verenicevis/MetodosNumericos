{
 "cells": [
  {
   "cell_type": "code",
   "execution_count": 1,
   "metadata": {},
   "outputs": [
    {
     "name": "stdout",
     "output_type": "stream",
     "text": [
      "Using matplotlib backend: Qt5Agg\n",
      "Populating the interactive namespace from numpy and matplotlib\n"
     ]
    }
   ],
   "source": [
    "%pylab"
   ]
  },
  {
   "cell_type": "markdown",
   "metadata": {},
   "source": [
    "Solución de un sistema de ecuaciones de la forma $Ax = B$"
   ]
  },
  {
   "cell_type": "markdown",
   "metadata": {},
   "source": [
    "1. $A$ es matriz diagonal"
   ]
  },
  {
   "cell_type": "code",
   "execution_count": 7,
   "metadata": {},
   "outputs": [],
   "source": [
    "def solDiagonal(A,B):\n",
    "    \n",
    "    #A es matriz cuadrada con \n",
    "    #dim(A) = n \n",
    "    #B es vector de tamaño n \n",
    "    \n",
    "    n = len(A)\n",
    "    \n",
    "    #A sí es diagonal?\n",
    "    for i in range(0,n):\n",
    "        for j in range(0,n):\n",
    "            if i != j and A[i][j] != 0:\n",
    "                print('A no es Diagonal')\n",
    "                return()\n",
    "            \n",
    "    #Cálculo de las incógnitas x\n",
    "    x=np.zeros(n)\n",
    "    for i in range(0,n):\n",
    "        x[i] = B[i] / A[i][i]\n",
    "\n",
    "    print('Tus incógnitas son:')\n",
    "    print(x)\n",
    "    \n",
    "    #Cálculo del determinante de A\n",
    "    det = 1\n",
    "    for i in range(0,n):\n",
    "        det = det * A[i][i]\n",
    "\n",
    "    print(\"El determinante  de A es: \")\n",
    "    print(det)\n",
    "    return(x,det)"
   ]
  }
 ],
 "metadata": {
  "kernelspec": {
   "display_name": "Python 3",
   "language": "python",
   "name": "python3"
  },
  "language_info": {
   "codemirror_mode": {
    "name": "ipython",
    "version": 3
   },
   "file_extension": ".py",
   "mimetype": "text/x-python",
   "name": "python",
   "nbconvert_exporter": "python",
   "pygments_lexer": "ipython3",
   "version": "3.7.3"
  }
 },
 "nbformat": 4,
 "nbformat_minor": 4
}
