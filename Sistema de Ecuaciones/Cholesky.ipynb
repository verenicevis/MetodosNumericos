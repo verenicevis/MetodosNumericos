{
 "cells": [
  {
   "cell_type": "code",
   "execution_count": 1,
   "metadata": {},
   "outputs": [
    {
     "name": "stdout",
     "output_type": "stream",
     "text": [
      "Using matplotlib backend: Qt5Agg\n",
      "Populating the interactive namespace from numpy and matplotlib\n"
     ]
    }
   ],
   "source": [
    "%pylab\n",
    "\n",
    "# Factorización Cholesky\n",
    "def Cholesky(A):\n",
    "    n = len(A)\n",
    "    L = np.identity(n)\n",
    "    L_t = np.empty((n,n))\n",
    "    \n",
    "    suma = 0\n",
    "    for i in range(0,n):\n",
    "        for j in range(0,i+1):\n",
    "            for k in range(0,j):\n",
    "                suma += L[i][k]*L[j][k]\n",
    "            if i==j:\n",
    "                L[i][i] = np.square(A[i][i] - suma)\n",
    "            else:\n",
    "                L[i][j] = (A[i][j]-suma)/L[j][j]\n",
    "    #transpuesta\n",
    "    for i in range(0,n):\n",
    "        for j in range(0,n):\n",
    "            L_t[i][j] = L[j][i]\n",
    "            \n",
    "    return(L,L_t)"
   ]
  },
  {
   "cell_type": "code",
   "execution_count": null,
   "metadata": {},
   "outputs": [],
   "source": []
  }
 ],
 "metadata": {
  "kernelspec": {
   "display_name": "Python 3",
   "language": "python",
   "name": "python3"
  },
  "language_info": {
   "codemirror_mode": {
    "name": "ipython",
    "version": 3
   },
   "file_extension": ".py",
   "mimetype": "text/x-python",
   "name": "python",
   "nbconvert_exporter": "python",
   "pygments_lexer": "ipython3",
   "version": "3.7.3"
  }
 },
 "nbformat": 4,
 "nbformat_minor": 4
}
